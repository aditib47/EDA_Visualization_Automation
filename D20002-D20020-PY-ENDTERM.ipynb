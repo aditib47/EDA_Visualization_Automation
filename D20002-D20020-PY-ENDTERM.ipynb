{
 "cells": [
  {
   "cell_type": "markdown",
   "metadata": {},
   "source": [
    "### EDA Visuslization using functions\n",
    "*-Authors of the notebook<br>*\n",
    " *Aditi Bhardwaj<br>*\n",
    " *Pooja N*"
   ]
  },
  {
   "cell_type": "code",
   "execution_count": 2,
   "metadata": {},
   "outputs": [],
   "source": [
    "import numpy as np\n",
    "import pandas as pd\n",
    "import os\n",
    "import seaborn as sns\n",
    "import matplotlib.pyplot as plt"
   ]
  },
  {
   "cell_type": "markdown",
   "metadata": {},
   "source": [
    "For Dataset 1: Telco-customer-churn\n",
    "* Each row represents a customer, each column contains customer’s attributes Each row represents such as information about customer’s services, account and demographic data \n",
    "* The raw data contains 7043 rows (customers) and 21 columns (features).\n",
    "* The “Churn” column is our target\n",
    "\n",
    "\n",
    "For Dataset 2: HR-Employee-Attrition\n",
    "* Uncover the factors that lead to employee attrition\n",
    "* The raw data contains 1470 rows (customers) and 35 columns (features)."
   ]
  },
  {
   "cell_type": "code",
   "execution_count": 9,
   "metadata": {},
   "outputs": [],
   "source": [
    "os.chdir(\"C:\\\\Users\\\\aditi\\\\Desktop\\\\IML\\\\datasets\")\n",
    "# dataset-1\n",
    "data1=pd.read_csv(\"Telco-Customer-Churn.csv\")\n",
    "# dataset-2\n",
    "data2=pd.read_csv(\"IBM_Attrition.csv\")"
   ]
  },
  {
   "cell_type": "code",
   "execution_count": 31,
   "metadata": {},
   "outputs": [
    {
     "data": {
      "text/plain": [
       "State                      object\n",
       "Account length              int64\n",
       "Area code                   int64\n",
       "International plan         object\n",
       "Voice mail plan            object\n",
       "Number vmail messages       int64\n",
       "Total day minutes         float64\n",
       "Total day calls             int64\n",
       "Total day charge          float64\n",
       "Total eve minutes         float64\n",
       "Total eve calls             int64\n",
       "Total eve charge          float64\n",
       "Total night minutes       float64\n",
       "Total night calls           int64\n",
       "Total night charge        float64\n",
       "Total intl minutes        float64\n",
       "Total intl calls            int64\n",
       "Total intl charge         float64\n",
       "Customer service calls      int64\n",
       "Churn                        bool\n",
       "dtype: object"
      ]
     },
     "execution_count": 31,
     "metadata": {},
     "output_type": "execute_result"
    }
   ],
   "source": [
    "data1.dtypes"
   ]
  },
  {
   "cell_type": "code",
   "execution_count": 10,
   "metadata": {},
   "outputs": [
    {
     "data": {
      "text/plain": [
       "Age                          int64\n",
       "Attrition                   object\n",
       "BusinessTravel              object\n",
       "DailyRate                    int64\n",
       "Department                  object\n",
       "DistanceFromHome             int64\n",
       "Education                    int64\n",
       "EducationField              object\n",
       "EmployeeCount                int64\n",
       "EmployeeNumber               int64\n",
       "EnvironmentSatisfaction      int64\n",
       "Gender                      object\n",
       "HourlyRate                   int64\n",
       "JobInvolvement               int64\n",
       "JobLevel                     int64\n",
       "JobRole                     object\n",
       "JobSatisfaction              int64\n",
       "MaritalStatus               object\n",
       "MonthlyIncome                int64\n",
       "MonthlyRate                  int64\n",
       "NumCompaniesWorked           int64\n",
       "Over18                      object\n",
       "OverTime                    object\n",
       "PercentSalaryHike            int64\n",
       "PerformanceRating            int64\n",
       "RelationshipSatisfaction     int64\n",
       "StandardHours                int64\n",
       "StockOptionLevel             int64\n",
       "TotalWorkingYears            int64\n",
       "TrainingTimesLastYear        int64\n",
       "WorkLifeBalance              int64\n",
       "YearsAtCompany               int64\n",
       "YearsInCurrentRole           int64\n",
       "YearsSinceLastPromotion      int64\n",
       "YearsWithCurrManager         int64\n",
       "dtype: object"
      ]
     },
     "execution_count": 10,
     "metadata": {},
     "output_type": "execute_result"
    }
   ],
   "source": [
    "data2.dtypes"
   ]
  },
  {
   "cell_type": "code",
   "execution_count": 11,
   "metadata": {},
   "outputs": [],
   "source": [
    "data1['TotalCharges']=pd.to_numeric(data1['TotalCharges'],errors='coerce') # convert Object dtype to float dtype"
   ]
  },
  {
   "cell_type": "markdown",
   "metadata": {},
   "source": [
    "## Question 1\n",
    "\n",
    "* Histogram(data)\n",
    "* Returns histograms for all numerical variables in data."
   ]
  },
  {
   "cell_type": "code",
   "execution_count": 14,
   "metadata": {},
   "outputs": [],
   "source": [
    "def histogram(data):\n",
    "            train= data.select_dtypes(include=np.number)\n",
    "            col1=train.columns\n",
    "            fig = plt.figure(figsize=(14, 12))\n",
    "\n",
    "            # loop over all numerical columns\n",
    "            for i in range(0, train.shape[1]):\n",
    "                                                              \n",
    "                vals = np.size(train.iloc[:, i].unique())  # To set number of Bins\n",
    "\n",
    "         # To Plot Histogram-Distribution\n",
    "        \n",
    "                plt.hist(train.iloc[:, i], bins=vals, color='#3F5D7D')\n",
    "                plt.xticks(fontsize=20)\n",
    "                plt.yticks(fontsize=20)\n",
    "                plt.title(col1[i],fontsize=22) \n",
    "                plt.xlabel(col1[i], fontsize=18)\n",
    "                plt.ylabel(\"Count\", fontsize=18)\n",
    "                plt.tight_layout()\n",
    "                plt.savefig(\"Hitogram of \"+col1[i])\n",
    "                plt.close()"
   ]
  },
  {
   "cell_type": "code",
   "execution_count": 15,
   "metadata": {},
   "outputs": [],
   "source": [
    "histogram(data1) # To call the Function"
   ]
  },
  {
   "cell_type": "code",
   "execution_count": null,
   "metadata": {},
   "outputs": [],
   "source": [
    "histogram(data2)"
   ]
  },
  {
   "cell_type": "markdown",
   "metadata": {},
   "source": [
    "## Question 2\n",
    "\n",
    "* Graphs(data)\n",
    "* Returns:\n",
    "Histograms and boxplots for all numerical variables and\n",
    "bar plot for all categorical variables in data."
   ]
  },
  {
   "cell_type": "code",
   "execution_count": 16,
   "metadata": {},
   "outputs": [],
   "source": [
    "# To create Graph function to visualize each variables through different plots\n",
    "\n",
    "def Graphs(data):\n",
    "            train1= data.select_dtypes(include=np.number)\n",
    "            col1=train1.columns\n",
    "            fig = plt.figure(figsize=(14, 12))\n",
    "\n",
    "            # loop over all numerical columns\n",
    "            for i in range(0, train1.shape[1]):                                                              \n",
    "                vals = np.size(train1.iloc[:, i].unique())  # To set bin size\n",
    "\n",
    "         # To Plot Histogram-Distribution\n",
    "        \n",
    "                plt.hist(train1.iloc[:, i], bins=vals, color='#3F5D7D')\n",
    "                plt.title(col1[i],fontsize=18) \n",
    "                plt.xlabel(col1[i], fontsize=15)\n",
    "                plt.ylabel(\"Count\", fontsize=15)\n",
    "                plt.xticks(fontsize=11)\n",
    "                plt.yticks(fontsize=11)\n",
    "                plt.tight_layout()\n",
    "                plt.savefig(\"Hitogram of \"+col1[i])\n",
    "                plt.close()\n",
    "                \n",
    "            for i in range(0, train1.shape[1]):\n",
    "        # To plot Box-plot\n",
    "                sns.boxplot(train1.iloc[:, i],orient='v')\n",
    "                plt.title(col1[i],fontsize=18) \n",
    "                plt.xlabel(col1[i], fontsize=15)\n",
    "                plt.ylabel(\"Count\", fontsize=15)\n",
    "                plt.xticks(fontsize=7)\n",
    "                plt.yticks(fontsize=10)\n",
    "                plt.tight_layout()\n",
    "                plt.savefig(col1[i])\n",
    "                plt.savefig(\"BoxPlot of \" +col1[i])\n",
    "                plt.close()\n",
    "\n",
    "            train2= data.select_dtypes('object')\n",
    "            col2=train2.columns\n",
    "            fig = plt.figure(figsize=(14, 12))\n",
    "\n",
    "            # loop over all categorical columns\n",
    "            for i in range(0, train2.shape[1]):\n",
    "        # To plot Bar-plot\n",
    "                train2.iloc[:, i].value_counts().plot.bar(fontsize=28, rot=45)\n",
    "                plt.title(col2[i],fontsize=18)\n",
    "                plt.xlabel(col2[i], fontsize=15)\n",
    "                plt.ylabel(\"Count\", fontsize=15)\n",
    "                plt.xticks(fontsize=10)\n",
    "                plt.yticks(fontsize=10)\n",
    "                plt.tight_layout()\n",
    "                plt.savefig(col2[i])\n",
    "                plt.savefig(\"BarPlot of \" +col2[i])\n",
    "                plt.close()"
   ]
  },
  {
   "cell_type": "code",
   "execution_count": null,
   "metadata": {},
   "outputs": [],
   "source": [
    "Graphs(data1) # To call the Function"
   ]
  },
  {
   "cell_type": "code",
   "execution_count": 57,
   "metadata": {},
   "outputs": [],
   "source": [
    "Graphs(data2) # To call the Function"
   ]
  },
  {
   "cell_type": "code",
   "execution_count": null,
   "metadata": {},
   "outputs": [],
   "source": []
  },
  {
   "cell_type": "markdown",
   "metadata": {},
   "source": [
    "### Question 3 "
   ]
  },
  {
   "cell_type": "markdown",
   "metadata": {},
   "source": [
    "#### The function takes the follwing arguments\n",
    "* dataset\n",
    "* the variables you want to get the visualization it's by default value is 0 and in that case charts are created for all the variables\n",
    "\n",
    "###### for Numeric variables Histogram and Box plots are created and for categorical variables Bar plots are created in the current working directory"
   ]
  },
  {
   "cell_type": "code",
   "execution_count": 18,
   "metadata": {},
   "outputs": [],
   "source": [
    "def graphs(data, var=0):\n",
    "    col_name=data.columns.tolist()                   #making a list of column names\n",
    "    if var==0:                                     #to check if the list of variables was given at the function call\n",
    "        \n",
    "        for col in col_name:\n",
    "            if data.dtypes[col]==np.int64 or data.dtypes[col]==np.float64:\n",
    "                data.hist(column=col,grid=False,figsize=(7,6),color=\"orange\",edgecolor=\"white\",)\n",
    "                plt.xlabel(col, fontsize=12)\n",
    "                plt.ylabel(\"Count\", fontsize=12)\n",
    "                plt.title(\"Histogram of \" +col , fontsize=16)\n",
    "                plt.savefig(\"Hitogram of \"+col)\n",
    "                plt.close()\n",
    "                sns.boxplot(x=col, data=data)\n",
    "                plt.xlabel(col, fontsize=12)\n",
    "                plt.ylabel(\"Count\", fontsize=12)\n",
    "                plt.title(\"Boxplot of \" +col , fontsize=16)\n",
    "                plt.savefig(\"Boxplot of \"+col)\n",
    "                plt.close()\n",
    "            elif data.dtypes[col]=='object'  or data.dtypes[col]=='bool' :\n",
    "                ax = sns.countplot(x=col, data=data)\n",
    "                plt.xlabel(col, fontsize=12)\n",
    "                plt.ylabel(\"Count\", fontsize=12)\n",
    "                plt.title(\"Barplot of \" +col , fontsize=12)\n",
    "                plt.savefig(col)\n",
    "                plt.close()\n",
    "    else:\n",
    "        for i in var:\n",
    "            col=col_name[i]\n",
    "            if data.dtypes[col]==np.int64 or data.dtypes[col]==np.float64:\n",
    "                data.hist(column=col,grid=False,figsize=(7,6),color=\"orange\",edgecolor=\"white\",)\n",
    "                plt.xlabel(col, fontsize=12)\n",
    "                plt.ylabel(\"Count\", fontsize=12)\n",
    "                plt.title(\"Histogram of \" +col , fontsize=16)\n",
    "                plt.savefig(\"Hitogram of \"+col)\n",
    "                plt.close()\n",
    "                sns.boxplot(x=col, data=data)\n",
    "                plt.xlabel(col, fontsize=12)\n",
    "                plt.ylabel(\"Count\", fontsize=12)\n",
    "                plt.title(\"Boxplot of \" +col , fontsize=16)\n",
    "                plt.savefig(\"Boxplot of \"+col)\n",
    "                plt.close()\n",
    "            elif data.dtypes[col]=='object' or data.dtypes[col]=='bool':\n",
    "                ax = sns.countplot(x=col, data=data)\n",
    "                plt.xlabel(col, fontsize=12)\n",
    "                plt.ylabel(\"Count\", fontsize=12)\n",
    "                plt.title(\"Barplot of \" +col , fontsize=12)\n",
    "                plt.savefig(col)\n",
    "                plt.close()\n",
    "            \n",
    "            \n",
    "            \n",
    "        \n",
    "            \n",
    "    "
   ]
  },
  {
   "cell_type": "code",
   "execution_count": 19,
   "metadata": {},
   "outputs": [],
   "source": [
    "graphs(data1)"
   ]
  },
  {
   "cell_type": "code",
   "execution_count": null,
   "metadata": {},
   "outputs": [],
   "source": [
    "graphs(data2,[1,2,3,4])"
   ]
  },
  {
   "cell_type": "markdown",
   "metadata": {},
   "source": [
    "### Question 4"
   ]
  },
  {
   "cell_type": "markdown",
   "metadata": {},
   "source": [
    "#### The function takes the follwing arguments\n",
    "* dataset\n",
    "* directory in which you want the charts \n",
    "* the variables you want to get the visualization it's by default value is 0 and in that case charts are created for all the variables\n",
    "###### for Numeric variables Histogram and Box plots are created and for categorical variables Bar plots are created in the directory path given in the argument"
   ]
  },
  {
   "cell_type": "code",
   "execution_count": 20,
   "metadata": {},
   "outputs": [],
   "source": [
    "def graphs(data,dir,var=0):\n",
    "    os.chdir(dir)\n",
    "    col_name=data.columns.tolist()\n",
    "    if var==0:\n",
    "        \n",
    "        for col in col_name:\n",
    "            if data.dtypes[col]==np.int64 or data.dtypes[col]==np.float64:\n",
    "                data.hist(column=col,grid=False,figsize=(7,6),color=\"orange\",edgecolor=\"white\",)\n",
    "                plt.xlabel(col, fontsize=12)\n",
    "                plt.ylabel(\"Count\", fontsize=12)\n",
    "                plt.title(\"Histogram of \" +col , fontsize=16)\n",
    "                plt.savefig(\"Hitogram of \"+col)\n",
    "                plt.close()\n",
    "                sns.boxplot(x=col, data=data)\n",
    "                plt.xlabel(col, fontsize=12)\n",
    "                plt.ylabel(\"Count\", fontsize=12)\n",
    "                plt.title(\"Boxplot of \" +col , fontsize=16)\n",
    "                plt.savefig(\"Boxplot of \"+col)\n",
    "                plt.close()\n",
    "            elif data.dtypes[col]=='object'  or data.dtypes[col]=='bool':\n",
    "                ax = sns.countplot(x=col, data=data)\n",
    "                plt.xlabel(col, fontsize=12)\n",
    "                plt.ylabel(\"Count\", fontsize=12)\n",
    "                plt.title(\"Barplot of \" +col , fontsize=12)\n",
    "                plt.savefig(col)\n",
    "                plt.close()\n",
    "    else:\n",
    "        for i in var:\n",
    "            col=col_name[i]\n",
    "            if data.dtypes[col]==np.int64 or data.dtypes[col]==np.float64:\n",
    "                data.hist(column=col,grid=False,figsize=(7,6),color=\"orange\",edgecolor=\"white\",)\n",
    "                plt.xlabel(col, fontsize=12)\n",
    "                plt.ylabel(\"Count\", fontsize=12)\n",
    "                plt.title(\"Histogram of \" +col , fontsize=16)\n",
    "                plt.savefig(\"Hitogram of \"+col)\n",
    "                plt.close()\n",
    "                sns.boxplot(x=col, data=data)\n",
    "                plt.xlabel(col, fontsize=12)\n",
    "                plt.ylabel(\"Count\", fontsize=12)\n",
    "                plt.title(\"Boxplot of \" +col , fontsize=16)\n",
    "                plt.savefig(\"Boxplot of \"+col)\n",
    "                plt.close()\n",
    "            elif data.dtypes[col]=='object'  or data.dtypes[col]=='bool':\n",
    "                ax = sns.countplot(x=col, data=data)\n",
    "                plt.xlabel(col, fontsize=12)\n",
    "                plt.ylabel(\"Count\", fontsize=12)\n",
    "                plt.title(\"Barplot of \" +col , fontsize=12)\n",
    "                plt.savefig(col)\n",
    "                plt.close()\n",
    "            \n",
    "            \n",
    "            \n",
    "        \n",
    "            \n",
    "    "
   ]
  },
  {
   "cell_type": "code",
   "execution_count": 21,
   "metadata": {},
   "outputs": [],
   "source": [
    "graphs(data1,\"C:\\\\Users\\\\aditi\\\\Desktop\\\\MR\\\\see\",[1,2,3,4])"
   ]
  },
  {
   "cell_type": "code",
   "execution_count": 22,
   "metadata": {},
   "outputs": [],
   "source": [
    "graphs(data2,\"C:\\\\Users\\\\aditi\\\\Desktop\\\\MR\\\\see\")"
   ]
  },
  {
   "cell_type": "markdown",
   "metadata": {},
   "source": [
    "### Question 5"
   ]
  },
  {
   "cell_type": "markdown",
   "metadata": {},
   "source": [
    "#### The function takes the follwing arguments\n",
    "* dataset\n",
    "* directory in which you want the charts\n",
    "* target variable ,it should be categorical \n",
    "* the variables you want to get the visualization it's by default value is 0 and in that case charts are created for all the variables\n",
    "\n",
    "for Numeric variables Histogram and Box plots are created and for categorical variables Bar plots are created in the directory path "
   ]
  },
  {
   "cell_type": "code",
   "execution_count": 23,
   "metadata": {},
   "outputs": [],
   "source": [
    "def graphs(data,dir,target,var=0):\n",
    "    os.chdir(dir)\n",
    "    col_name=data.columns.tolist()\n",
    "    if var==0:\n",
    "        \n",
    "        for col in col_name:\n",
    "            if data.dtypes[col]==np.int64 or data.dtypes[col]==np.float64:\n",
    "                data.hist(column=col,grid=False,figsize=(7,6),color=\"orange\",edgecolor=\"white\",)\n",
    "                plt.xlabel(col, fontsize=12)\n",
    "                plt.ylabel(\"Count\", fontsize=12)\n",
    "                plt.title(\"Histogram of \" +col , fontsize=16)\n",
    "                plt.savefig(\"Hitogram of \"+col)\n",
    "                plt.close()\n",
    "                sns.boxplot(x=data[target],y=col, data=data)\n",
    "                plt.xlabel(col, fontsize=12)\n",
    "                plt.ylabel(\"Count\", fontsize=12)\n",
    "                plt.title(\"Boxplot of \" +col , fontsize=16)\n",
    "                plt.savefig(\"Boxplot of \"+col)\n",
    "                plt.close()\n",
    "            elif data.dtypes[col]=='object'  or data.dtypes[col]=='bool':\n",
    "                ax = sns.countplot(x=col,hue=target, data=data)\n",
    "                plt.xlabel(col, fontsize=12)\n",
    "                plt.ylabel(\"Count\", fontsize=12)\n",
    "                plt.title(\"Barplot of \" +col , fontsize=12)\n",
    "                plt.savefig(col)\n",
    "                plt.close()\n",
    "    else:\n",
    "        for i in var:\n",
    "            col=col_name[i]\n",
    "            if data.dtypes[col]==np.int64 or data.dtypes[col]==np.float64:\n",
    "                data.hist(column=col,grid=False,figsize=(7,6),color=\"orange\",edgecolor=\"white\",)\n",
    "                plt.xlabel(col, fontsize=12)\n",
    "                plt.ylabel(\"Count\", fontsize=12)\n",
    "                plt.title(\"Histogram of \" +col , fontsize=16)\n",
    "                plt.savefig(\"Hitogram of \"+col)\n",
    "                plt.close()\n",
    "                sns.boxplot(x=data[target],y=col,data=data)\n",
    "                plt.xlabel(col, fontsize=12)\n",
    "                plt.ylabel(\"Count\", fontsize=12)\n",
    "                plt.title(\"Boxplot of \" +col , fontsize=16)\n",
    "                plt.savefig(\"Boxplot of \"+col)\n",
    "                plt.close()\n",
    "            elif data.dtypes[col]=='object'  or data.dtypes[col]=='bool':\n",
    "                ax = sns.countplot(x=col,hue=target ,data=data)\n",
    "                plt.xlabel(col, fontsize=12)\n",
    "                plt.ylabel(\"Count\", fontsize=12)\n",
    "                plt.title(\"Barplot of \" +col , fontsize=12)\n",
    "                plt.savefig(col)\n",
    "                plt.close()\n",
    "            \n",
    "            \n",
    "            \n",
    "        \n",
    "            \n",
    "    "
   ]
  },
  {
   "cell_type": "code",
   "execution_count": 25,
   "metadata": {},
   "outputs": [],
   "source": [
    "graphs(data1,\"C:\\\\Users\\\\aditi\\\\Desktop\\\\MR\\\\see\",'Churn')"
   ]
  },
  {
   "cell_type": "code",
   "execution_count": 26,
   "metadata": {},
   "outputs": [],
   "source": [
    "graphs(data2,\"C:\\\\Users\\\\aditi\\\\Desktop\\\\MR\\\\see\",'Attrition',[1,2,6])"
   ]
  },
  {
   "cell_type": "code",
   "execution_count": null,
   "metadata": {},
   "outputs": [],
   "source": []
  },
  {
   "cell_type": "code",
   "execution_count": null,
   "metadata": {},
   "outputs": [],
   "source": []
  }
 ],
 "metadata": {
  "kernelspec": {
   "display_name": "Python 3",
   "language": "python",
   "name": "python3"
  },
  "language_info": {
   "codemirror_mode": {
    "name": "ipython",
    "version": 3
   },
   "file_extension": ".py",
   "mimetype": "text/x-python",
   "name": "python",
   "nbconvert_exporter": "python",
   "pygments_lexer": "ipython3",
   "version": "3.8.3"
  }
 },
 "nbformat": 4,
 "nbformat_minor": 4
}
